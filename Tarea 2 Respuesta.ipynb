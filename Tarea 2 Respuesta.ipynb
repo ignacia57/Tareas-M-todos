{
 "cells": [
  {
   "cell_type": "markdown",
   "id": "a7b2cccc",
   "metadata": {},
   "source": [
    "# Tarea 2"
   ]
  },
  {
   "cell_type": "markdown",
   "id": "ad608476",
   "metadata": {},
   "source": [
    "## Ejercicio 2.5"
   ]
  },
  {
   "cell_type": "markdown",
   "id": "feee15ce",
   "metadata": {},
   "source": [
    "Sin usar ciclos for, while, ni recurrencia escriba un código que calcule la siguiente sumatoria\n",
    "\n",
    "$$\n",
    "\\sum_{n = 1}^{100} n*(n+1)\n",
    "$$"
   ]
  },
  {
   "cell_type": "code",
   "execution_count": 18,
   "id": "6481aa37",
   "metadata": {},
   "outputs": [],
   "source": [
    "import numpy as np #importamos el paquete numpy para realizar la tarea"
   ]
  },
  {
   "cell_type": "code",
   "execution_count": 22,
   "id": "bc5820c5",
   "metadata": {},
   "outputs": [
    {
     "name": "stdout",
     "output_type": "stream",
     "text": [
      "Sumatoria: [    2     6    12    20    30    42    56    72    90   110   132   156\n",
      "   182   210   240   272   306   342   380   420   462   506   552   600\n",
      "   650   702   756   812   870   930   992  1056  1122  1190  1260  1332\n",
      "  1406  1482  1560  1640  1722  1806  1892  1980  2070  2162  2256  2352\n",
      "  2450  2550  2652  2756  2862  2970  3080  3192  3306  3422  3540  3660\n",
      "  3782  3906  4032  4160  4290  4422  4556  4692  4830  4970  5112  5256\n",
      "  5402  5550  5700  5852  6006  6162  6320  6480  6642  6806  6972  7140\n",
      "  7310  7482  7656  7832  8010  8190  8372  8556  8742  8930  9120  9312\n",
      "  9506  9702  9900 10100]\n"
     ]
    }
   ],
   "source": [
    "n = np.arange (1,101) #definimos nuestro arreglo que va desde el 1 al 100 \n",
    "array = [(n*(n+1))] #usamos un arreglo junto con la operacion para saber todos los numeros que tiene la sumatoria\n",
    "numeros = sum (array) #n en este caso es una variable que agrupa la suma total del arreglo \n",
    "print('Sumatoria:',numeros) #imprimimos el resultado que son todos los valores de la sumatoria "
   ]
  },
  {
   "cell_type": "code",
   "execution_count": 23,
   "id": "ef7ee937",
   "metadata": {},
   "outputs": [
    {
     "name": "stdout",
     "output_type": "stream",
     "text": [
      "El resultado total de la sumatoria es: 343400\n"
     ]
    }
   ],
   "source": [
    "sumatoria = sum (n*(n+1)) #Calculamos todos los resultados de la sumatoria con la funcion sum y la operacion\n",
    "print('El resultado total de la sumatoria es:',sumatoria) #imprimimos el resultado "
   ]
  },
  {
   "cell_type": "code",
   "execution_count": 24,
   "id": "0abb36f1",
   "metadata": {},
   "outputs": [
    {
     "data": {
      "text/plain": [
       "array([  1,   2,   3,   4,   5,   6,   7,   8,   9,  10,  11,  12,  13,\n",
       "        14,  15,  16,  17,  18,  19,  20,  21,  22,  23,  24,  25,  26,\n",
       "        27,  28,  29,  30,  31,  32,  33,  34,  35,  36,  37,  38,  39,\n",
       "        40,  41,  42,  43,  44,  45,  46,  47,  48,  49,  50,  51,  52,\n",
       "        53,  54,  55,  56,  57,  58,  59,  60,  61,  62,  63,  64,  65,\n",
       "        66,  67,  68,  69,  70,  71,  72,  73,  74,  75,  76,  77,  78,\n",
       "        79,  80,  81,  82,  83,  84,  85,  86,  87,  88,  89,  90,  91,\n",
       "        92,  93,  94,  95,  96,  97,  98,  99, 100])"
      ]
     },
     "execution_count": 24,
     "metadata": {},
     "output_type": "execute_result"
    }
   ],
   "source": [
    "mi_arreglo #Aqui se puede ver nuestro arreglo ya definido que son todos los numeros del 1 al 100 "
   ]
  },
  {
   "cell_type": "code",
   "execution_count": null,
   "id": "7d4a59b8",
   "metadata": {},
   "outputs": [],
   "source": []
  }
 ],
 "metadata": {
  "kernelspec": {
   "display_name": "Python 3 (ipykernel)",
   "language": "python",
   "name": "python3"
  },
  "language_info": {
   "codemirror_mode": {
    "name": "ipython",
    "version": 3
   },
   "file_extension": ".py",
   "mimetype": "text/x-python",
   "name": "python",
   "nbconvert_exporter": "python",
   "pygments_lexer": "ipython3",
   "version": "3.8.13"
  }
 },
 "nbformat": 4,
 "nbformat_minor": 5
}
