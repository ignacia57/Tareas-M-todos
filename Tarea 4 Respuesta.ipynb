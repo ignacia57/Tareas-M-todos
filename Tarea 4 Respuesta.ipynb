{
 "cells": [
  {
   "cell_type": "markdown",
   "id": "29b22a26",
   "metadata": {},
   "source": [
    "# Tarea 4.4"
   ]
  },
  {
   "cell_type": "markdown",
   "id": "62a2aa6d",
   "metadata": {},
   "source": [
    "Queremos calcular $x^3$. ¿Es más rápido calcular x\\*x\\*x o x\\*\\*3?\n",
    "\n",
    "El problema es que Python calcula ambas operaciones muy rápido y es imposible decidir cuál es mejor.\n",
    "\n",
    "Para hacerlo podemos realizar la operación muchas veces y ver cuánto tarda. \n",
    "\n",
    "Modifique la función medir_tiempo para que admita un argumento adicional que sea el número de veces que se evalúa la función. Úsela para medir cuál es más rápido entre x\\*x\\*x o x\\*\\*3."
   ]
  },
  {
   "cell_type": "code",
   "execution_count": 74,
   "id": "5537044e",
   "metadata": {},
   "outputs": [],
   "source": [
    "#Importamos los paquetes necesarios para calcular lo solicitado, en este caso los vistos en clase \n",
    "import numpy as np\n",
    "from time import time #Este calula el tiempo en segundos\n",
    "from time import time_ns #Este sirve para calcular el tiempo en nanosegundos"
   ]
  },
  {
   "cell_type": "code",
   "execution_count": 75,
   "id": "5ce859f2",
   "metadata": {},
   "outputs": [],
   "source": [
    "#Definimos esta funcion que nos permote agregarle decoradores y argumentos \n",
    "def medir_tiempo(func, *args): \n",
    "    tiempo1 = time_ns() #Le pedimos que nos entregue el tiempo en nanosegundos\n",
    "    func(*args) #Agregamos los argumentos de la funcion \n",
    "    tiempofinal = time_ns() - tiempo1 #Indicamos la formula para el tiempo final \n",
    "    return tiempofinal #Le pedimos que nos devuelva el tiempo final "
   ]
  },
  {
   "cell_type": "code",
   "execution_count": 76,
   "id": "8705d35a",
   "metadata": {},
   "outputs": [
    {
     "data": {
      "text/plain": [
       "13000"
      ]
     },
     "execution_count": 76,
     "metadata": {},
     "output_type": "execute_result"
    }
   ],
   "source": [
    "#Primero definimos la funcion multiplicacion y le adjuntamos la x que es el numero de veces que \n",
    "def multiplicacion(x, veces): #Definimos nuestra variable \n",
    "    resultado = x*x*x #Se introduce la operación que se quiere llevar a cabo, una multiplicación\n",
    "    for i in range(veces): \n",
    "        resultado = x*x*x\n",
    "    return resultado #Le pedimos que nos imprima el resultado en este caso de la multiplicación \n",
    "\n",
    "medir_tiempo(multiplicacion, 50, 100)"
   ]
  },
  {
   "cell_type": "code",
   "execution_count": 77,
   "id": "b820d7d3",
   "metadata": {},
   "outputs": [
    {
     "data": {
      "text/plain": [
       "40000"
      ]
     },
     "execution_count": 77,
     "metadata": {},
     "output_type": "execute_result"
    }
   ],
   "source": [
    "def potencia(x, y): #Definimos nuestra variable \n",
    "    resultado = x**3 #Se introduce la operación que en este caso es una potencia \n",
    "    for i in range(y):\n",
    "        resultado = x**3\n",
    "    return resultado #Le pedimos que nos devuelve el resultado \n",
    "\n",
    "medir_tiempo(potencia, 50, 100) #Finalmente le pedimos que nos imprima cuantos segundos se demoro\n",
    "#Los valores de al lado indican el nombre de la función y los argumentos de la funcion "
   ]
  },
  {
   "cell_type": "code",
   "execution_count": 78,
   "id": "49e07606",
   "metadata": {},
   "outputs": [
    {
     "data": {
      "text/plain": [
       "2000"
      ]
     },
     "execution_count": 78,
     "metadata": {},
     "output_type": "execute_result"
    }
   ],
   "source": [
    "medir_tiempo(multiplicacion, 5, 2) #medimos el tiempo en nanosegundos de la multiplicación "
   ]
  },
  {
   "cell_type": "code",
   "execution_count": 79,
   "id": "d4cbce18",
   "metadata": {},
   "outputs": [
    {
     "data": {
      "text/plain": [
       "4000"
      ]
     },
     "execution_count": 79,
     "metadata": {},
     "output_type": "execute_result"
    }
   ],
   "source": [
    "medir_tiempo(potencia, 5, 2) #medimos el tiempo en nanosegundos de la potencia "
   ]
  },
  {
   "cell_type": "code",
   "execution_count": null,
   "id": "ea283488",
   "metadata": {},
   "outputs": [],
   "source": [
    "#Luego de varios intentos concluimos que multiplicacion x*x*x es la forma más rápida de calcular x elevado a 3 \n",
    "#ya que tomo menos nanosegundos según nuestra formula. "
   ]
  }
 ],
 "metadata": {
  "kernelspec": {
   "display_name": "Python 3 (ipykernel)",
   "language": "python",
   "name": "python3"
  },
  "language_info": {
   "codemirror_mode": {
    "name": "ipython",
    "version": 3
   },
   "file_extension": ".py",
   "mimetype": "text/x-python",
   "name": "python",
   "nbconvert_exporter": "python",
   "pygments_lexer": "ipython3",
   "version": "3.8.13"
  }
 },
 "nbformat": 4,
 "nbformat_minor": 5
}
