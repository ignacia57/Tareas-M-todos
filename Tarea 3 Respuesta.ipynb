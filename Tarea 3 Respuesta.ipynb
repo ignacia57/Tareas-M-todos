{
 "cells": [
  {
   "cell_type": "markdown",
   "id": "e955e105",
   "metadata": {},
   "source": [
    "# Tarea 3.7"
   ]
  },
  {
   "cell_type": "markdown",
   "id": "f3d9b4c4",
   "metadata": {},
   "source": [
    "Ejercicio 1.3.1 del libro de Burden: Use números de punto flotante de 16 bits para calcular las siguientes sumas. Explique por qué ambos métodos en cada caso dan resultados diferentes y cuál es la más correcta.\n",
    "\n",
    "* $\\sum_{n = 1}^{100}\\frac{1}{n^2}$ primero de la forma $1 + \\frac{1}{4} + \\frac{1}{9} + \\dots + \\frac{1}{10^4}$ y luego en la forma $\\frac{1}{10^4} + \\dots + \\frac{1}{9} + \\frac{1}{4} + 1$.\n",
    "\n",
    "* $\\sum_{n = 1}^{100}\\frac{1}{n^3}$ primero de la forma $1 + \\frac{1}{8} + \\frac{1}{27} + \\dots + \\frac{1}{10^6}$ y luego en la forma $\\frac{1}{10^6} + \\dots + \\frac{1}{27} + \\frac{1}{8} + 1$."
   ]
  },
  {
   "cell_type": "code",
   "execution_count": 1,
   "id": "75467e0b",
   "metadata": {},
   "outputs": [],
   "source": [
    "import numpy as np #importamos numpy para que funcionen las operaciones "
   ]
  },
  {
   "cell_type": "code",
   "execution_count": 17,
   "id": "0153ee25",
   "metadata": {},
   "outputs": [],
   "source": [
    "def forma1(i): #definimos nuestra variable en este caso para calcular la primera sumatoria es forma1\n",
    "    n_esimo=np.float16(0) \n",
    "    for m in range(1, i):  #le indicamos desde que numero hasta que numero debe llegar la sumatoria \n",
    "        n_esimo+=(np.float16(1)/np.float16((m*m))) #ponemos la operacion de la sumatoria 1 \n",
    "    return np.float16(n_esimo) #le pedimos que nos devuelva el valor "
   ]
  },
  {
   "cell_type": "code",
   "execution_count": 18,
   "id": "556e4596",
   "metadata": {},
   "outputs": [
    {
     "data": {
      "text/plain": [
       "1.627"
      ]
     },
     "execution_count": 18,
     "metadata": {},
     "output_type": "execute_result"
    }
   ],
   "source": [
    "forma1(100) #imprimimos el resultado de la sumatoria en los 100 primeros numeros de la forma1"
   ]
  },
  {
   "cell_type": "code",
   "execution_count": 19,
   "id": "dea23d33",
   "metadata": {},
   "outputs": [],
   "source": [
    "def forma2(i): #definimos la variable forma2 para calcular la segunda sumatoria que se pide\n",
    "    n_esimo=np.float16(0) \n",
    "    for m in range(1, i): #le indicamos desde donde hasta donde va la sumatoria\n",
    "        n_esimo+=(np.float16(1)/np.float16((m*m*m))) #escribimos la ecuación de la segunda sumatoria\n",
    "    return np.float16(n_esimo) #le pedimos que nos devuleva el resultado "
   ]
  },
  {
   "cell_type": "code",
   "execution_count": 20,
   "id": "2a81b4a7",
   "metadata": {},
   "outputs": [
    {
     "data": {
      "text/plain": [
       "1.199"
      ]
     },
     "execution_count": 20,
     "metadata": {},
     "output_type": "execute_result"
    }
   ],
   "source": [
    "forma2(100) #imprimimos el resultado de la forma2 hasta el 100 "
   ]
  },
  {
   "cell_type": "code",
   "execution_count": null,
   "id": "a6300445",
   "metadata": {},
   "outputs": [],
   "source": [
    "#es mas correcto de la segunda forma ya que da un resultado menor."
   ]
  },
  {
   "cell_type": "markdown",
   "id": "19bf938e",
   "metadata": {},
   "source": [
    "# Calificación: 4.0\n",
    "\n",
    "¡Faltó media tarea!\n",
    "\n",
    "<span style=\"color: red;\">Faltó hacer las sumatorias en la segunda forma</span>"
   ]
  },
  {
   "cell_type": "markdown",
   "id": "d2c8f089",
   "metadata": {},
   "source": []
  }
 ],
 "metadata": {
  "kernelspec": {
   "display_name": "Python 3 (ipykernel)",
   "language": "python",
   "name": "python3"
  },
  "language_info": {
   "codemirror_mode": {
    "name": "ipython",
    "version": 3
   },
   "file_extension": ".py",
   "mimetype": "text/x-python",
   "name": "python",
   "nbconvert_exporter": "python",
   "pygments_lexer": "ipython3",
   "version": "3.8.13"
  }
 },
 "nbformat": 4,
 "nbformat_minor": 5
}
