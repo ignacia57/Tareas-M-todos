{
 "cells": [
  {
   "cell_type": "markdown",
   "id": "4c1a2a66",
   "metadata": {},
   "source": [
    "# Ejercicio 1.3"
   ]
  },
  {
   "cell_type": "markdown",
   "id": "aaa294e2",
   "metadata": {},
   "source": [
    "Corrija el siguiente código"
   ]
  },
  {
   "cell_type": "code",
   "execution_count": 1,
   "id": "9c259f13",
   "metadata": {},
   "outputs": [
    {
     "ename": "NameError",
     "evalue": "name 'x' is not defined",
     "output_type": "error",
     "traceback": [
      "\u001b[0;31m---------------------------------------------------------------------------\u001b[0m",
      "\u001b[0;31mNameError\u001b[0m                                 Traceback (most recent call last)",
      "Input \u001b[0;32mIn [1]\u001b[0m, in \u001b[0;36m<cell line: 4>\u001b[0;34m()\u001b[0m\n\u001b[1;32m      1\u001b[0m \u001b[38;5;28;01mdef\u001b[39;00m \u001b[38;5;21mfun\u001b[39m(n):\n\u001b[1;32m      2\u001b[0m     \u001b[38;5;28;01mreturn\u001b[39;00m x\n\u001b[0;32m----> 4\u001b[0m \u001b[38;5;28mprint\u001b[39m(\u001b[43mfun\u001b[49m\u001b[43m(\u001b[49m\u001b[38;5;241;43m1\u001b[39;49m\u001b[43m)\u001b[49m)\n",
      "Input \u001b[0;32mIn [1]\u001b[0m, in \u001b[0;36mfun\u001b[0;34m(n)\u001b[0m\n\u001b[1;32m      1\u001b[0m \u001b[38;5;28;01mdef\u001b[39;00m \u001b[38;5;21mfun\u001b[39m(n):\n\u001b[0;32m----> 2\u001b[0m     \u001b[38;5;28;01mreturn\u001b[39;00m \u001b[43mx\u001b[49m\n",
      "\u001b[0;31mNameError\u001b[0m: name 'x' is not defined"
     ]
    }
   ],
   "source": [
    "def fun(n):\n",
    "    return x\n",
    "\n",
    "print(fun(1))"
   ]
  },
  {
   "cell_type": "markdown",
   "id": "bca16793",
   "metadata": {},
   "source": [
    "## Respuesta"
   ]
  },
  {
   "cell_type": "code",
   "execution_count": 3,
   "id": "d5054c21",
   "metadata": {},
   "outputs": [
    {
     "name": "stdout",
     "output_type": "stream",
     "text": [
      "1\n"
     ]
    }
   ],
   "source": [
    "def fun(n): #Se define la variable fun con valores de n \n",
    "    return n #en este caso se cambia la x por una n para que el código funcione, ya que no se le puede pedir \n",
    "             #que devuelva la variable x porque no esta definida en el código, en cambio n si.\n",
    "\n",
    "\n",
    "print(fun(1)) #Se pide que imprima el numero que se le asigno a la variable n que en este caso es 1. "
   ]
  },
  {
   "cell_type": "markdown",
   "id": "62877a27",
   "metadata": {},
   "source": [
    "# Calificación: 7.0"
   ]
  },
  {
   "cell_type": "markdown",
   "id": "7f2dcc87",
   "metadata": {},
   "source": []
  }
 ],
 "metadata": {
  "kernelspec": {
   "display_name": "Python 3 (ipykernel)",
   "language": "python",
   "name": "python3"
  },
  "language_info": {
   "codemirror_mode": {
    "name": "ipython",
    "version": 3
   },
   "file_extension": ".py",
   "mimetype": "text/x-python",
   "name": "python",
   "nbconvert_exporter": "python",
   "pygments_lexer": "ipython3",
   "version": "3.8.13"
  }
 },
 "nbformat": 4,
 "nbformat_minor": 5
}
