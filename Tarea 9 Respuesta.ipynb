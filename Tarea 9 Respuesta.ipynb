{
 "cells": [
  {
   "cell_type": "markdown",
   "id": "78bcbd62",
   "metadata": {},
   "source": [
    "# Tarea 9.7 "
   ]
  },
  {
   "cell_type": "markdown",
   "id": "e4bd6429",
   "metadata": {},
   "source": [
    "Suponga que la medición de un cierto proceso físico da como resultado la siguiente expresión\n",
    "\n",
    "$$\n",
    "p(x) = \\sin x + n(x)\n",
    "$$\n",
    "\n",
    "donde $n$ es el error experimental que podemos describir como un número aleatorio, para cada valor de $x$, tomado de una distribución gaussiana con media $0$ y desviación estándar $10^{-5}$. Queremos calcular la integral\n",
    "\n",
    "$$\n",
    "\\int_0^1 dx\\,p(x)\\,.\n",
    "$$\n",
    "\n",
    "Use la cuadratura adaptativa para calcular esta integral. El verdadero valor de esta integral es $1-\\cos(1)$. Grafique el error cometido en función de la tolerancia. ¿Se puede lograr una precisión de $10^{-7}$? ¿Qué podemos decir sobre la estabilidad de la cuadratura adaptativa?"
   ]
  },
  {
   "cell_type": "code",
   "execution_count": 5,
   "id": "26f7c434",
   "metadata": {},
   "outputs": [],
   "source": [
    "#importamos los paquetes necesarios \n",
    "import numpy as np\n",
    "import matplotlib.pyplot as plt\n",
    "import random"
   ]
  },
  {
   "cell_type": "code",
   "execution_count": 6,
   "id": "e429a2a0",
   "metadata": {},
   "outputs": [
    {
     "data": {
      "text/plain": [
       "0.4597082364376395"
      ]
     },
     "execution_count": 6,
     "metadata": {},
     "output_type": "execute_result"
    }
   ],
   "source": [
    "#usamos la cuadratura adaptativa\n",
    "class MaxIterations(Exception):\n",
    "    pass\n",
    "\n",
    "#definimos el metodo utilizado y las variables iniciales\n",
    "def adaptive(f, a, b, tol, N=100000):\n",
    "    \n",
    "    # Variables iniciales\n",
    "    approx = 0\n",
    "    i = 0\n",
    "    toli = [10*tol]\n",
    "    ai = [a]\n",
    "    hi = [(b - a)/2]\n",
    "    fai = [f(a)]\n",
    "    fbi = [f(b)]\n",
    "    fci = [f(a + hi[i])]\n",
    "    S0i = [hi[i]*(fai[i] + 4*fci[i] + fbi[i])/3]\n",
    "    Li = [1]\n",
    "    \n",
    "    \n",
    "    while i >= 0:\n",
    "        \n",
    "        fd = f(ai[i] + hi[i]/2)\n",
    "        fe = f(ai[i] + 3*hi[i]/2)\n",
    "        S1 = hi[i]*(fai[i] + 4*fd + fci[i])/6\n",
    "        S2 = hi[i]*(fci[i] + 4*fe + fbi[i])/6\n",
    "        ai_prec = ai[i]\n",
    "        hi_prec = hi[i]\n",
    "        fai_prec = fai[i]\n",
    "        fbi_prec = fbi[i]\n",
    "        fci_prec = fci[i]\n",
    "        toli_prec = toli[i]\n",
    "        S0i_prec = S0i[i]\n",
    "        Li_prec = Li[i]\n",
    "        \n",
    "        i -= 1\n",
    "        if abs(S1 + S2 - S0i_prec) < toli_prec:\n",
    "            approx += S1 + S2\n",
    "        else:\n",
    "            if Li_prec >= N:\n",
    "                raise MaxIterations(\"Alcanzado máximo número de iteraciones.\")\n",
    "            \n",
    "            # Intervalo derecho\n",
    "            i += 1\n",
    "            if i >= len(ai): # A veces hay que ampliar la lista\n",
    "                ai.append(ai_prec + hi_prec)\n",
    "                fai.append(fci_prec)\n",
    "                fci.append(fe)\n",
    "                fbi.append(fbi_prec)\n",
    "                hi.append(hi_prec/2)\n",
    "                toli.append(toli_prec/2)\n",
    "                S0i.append(S2)\n",
    "                Li.append(Li_prec + 1)\n",
    "            else:\n",
    "                ai[i] = ai_prec + hi_prec\n",
    "                fai[i] = fci_prec\n",
    "                fci[i] = fe\n",
    "                fbi[i] = fbi_prec\n",
    "                hi[i] = hi_prec/2\n",
    "                toli[i] = toli_prec/2\n",
    "                S0i[i] = S2\n",
    "                Li[i] = Li_prec + 1\n",
    "                \n",
    "            # Intervalo izquierdo\n",
    "            i += 1\n",
    "            if i >= len(ai):\n",
    "                ai.append(ai_prec)\n",
    "                fai.append(fai_prec)\n",
    "                fci.append(fd)\n",
    "                fbi.append(fci_prec)\n",
    "                hi.append(hi[i-1])\n",
    "                toli.append(toli[i-1])\n",
    "                S0i.append(S1)\n",
    "                Li.append(Li[i-1])\n",
    "            else:\n",
    "                ai[i] = ai_prec\n",
    "                fai[i] = fai_prec\n",
    "                fci[i] = fd\n",
    "                fbi[i] = fci_prec\n",
    "                hi[i] = hi[i-1]\n",
    "                toli[i] = toli[i-1]\n",
    "                S0i[i] = S1\n",
    "                Li[i] = Li[i-1]\n",
    "                \n",
    "    return approx\n",
    "\n",
    "#creamos el error gaussiano\n",
    "error=random.gauss(0, 10**-5)\n",
    "#calculamos la integral\n",
    "adaptive(lambda x: np.sin(x)+error, 0, 1, 0.00000001)"
   ]
  },
  {
   "cell_type": "markdown",
   "id": "178a288b",
   "metadata": {},
   "source": [
    "De la expresion vista en clases tenemos:\n",
    "\n",
    "$$\n",
    "\\int_a^b dx\\,f(x) = \\frac{h}{6}(f(a) + 4f(a + h/2) + 2f(a + h) + 4f(a + 3h/2) + f(b)) - \\frac{1}{16}\\frac{h^5}{90}f^{(4)}(\\bar{\\xi}) \\equiv S_1  - \\frac{1}{16}\\frac{h^5}{90}f^{(4)}(\\xi)\n",
    "$$\n",
    "\n",
    "En la cual el error queda expresado como:\n",
    "$$\n",
    "\\frac{15}{16}\\frac{h^5}{90}p^{(4)}(\\xi) = S_o - S_1\n",
    "$$\n",
    "\n",
    "Consideramos que el valor de n es:\n",
    "\n",
    "$$\n",
    "n = \\frac{b-a}{h}=\\frac{1}{h}\n",
    "$$"
   ]
  },
  {
   "cell_type": "code",
   "execution_count": 7,
   "id": "4d3a9c2d",
   "metadata": {},
   "outputs": [
    {
     "data": {
      "text/plain": [
       "Text(0, 0.5, 'error')"
      ]
     },
     "execution_count": 7,
     "metadata": {},
     "output_type": "execute_result"
    },
    {
     "data": {
      "image/png": "[encoded data removed]",
      "text/plain": [
       "<Figure size 432x288 with 1 Axes>"
      ]
     },
     "metadata": {
      "needs_background": "light"
     },
     "output_type": "display_data"
    }
   ],
   "source": [
    "#hacemos una función para definir el error en función de h\n",
    "def error(h):\n",
    "    #variable para contar\n",
    "    v1=0\n",
    "    #usamos la expresión para el error\n",
    "    valor=int(1/(2*h))\n",
    "    for i in range(1,valor+1):\n",
    "        v1=v1+(1/(16*90))*(h**(5))*np.sin(i)\n",
    "    return v1 \n",
    "\n",
    "#graficamos \n",
    "h1 = np.linspace(0.00001,0.001,1000)\n",
    "plt.plot(h1, [error(xi) for xi in h1] )\n",
    "plt.xlabel('h')\n",
    "plt.ylabel('error')"
   ]
  },
  {
   "cell_type": "code",
   "execution_count": 8,
   "id": "b38f6977",
   "metadata": {},
   "outputs": [
    {
     "data": {
      "text/plain": [
       "(0.0203266092465018, 3.4486167029886092e-15)"
      ]
     },
     "execution_count": 8,
     "metadata": {},
     "output_type": "execute_result"
    }
   ],
   "source": [
    "from scipy import integrate\n",
    "#evaluamos el error absoluto\n",
    "f = lambda x: np.cos(10*x)/np.sqrt(x**2 + 16)\n",
    "integrate.quad(f, 0, 2, epsrel=1e-12, epsabs=0)"
   ]
  },
  {
   "cell_type": "markdown",
   "id": "b3bedf43",
   "metadata": {},
   "source": [
    "Finalmente podemos decir que para h grandes el error va aumentando pero se puede lograr una precisión de 10^7 \n",
    "con un h pequeño. A partir de la oscilaciones del error vemos que este crece de manera muy rapida.Por otro lado, sobre la cuadratura adaptativa podemos decir que utiliza un metodo parecido a la de una cuadratura gaussina de orden 21."
   ]
  }
 ],
 "metadata": {
  "kernelspec": {
   "display_name": "Python 3 (ipykernel)",
   "language": "python",
   "name": "python3"
  },
  "language_info": {
   "codemirror_mode": {
    "name": "ipython",
    "version": 3
   },
   "file_extension": ".py",
   "mimetype": "text/x-python",
   "name": "python",
   "nbconvert_exporter": "python",
   "pygments_lexer": "ipython3",
   "version": "3.8.13"
  }
 },
 "nbformat": 4,
 "nbformat_minor": 5
}
